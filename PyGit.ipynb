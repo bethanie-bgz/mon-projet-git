{
 "cells": [
  {
   "cell_type": "code",
   "execution_count": null,
   "id": "82f562e7-1a23-4dcb-862c-a02ac71c5e6c",
   "metadata": {},
   "outputs": [],
   "source": [
    "Multiplication=  lambda  a,b= a*b\n",
    "Resultat= Multiplication(10, 2)\n",
    "Resultat"
   ]
  },
  {
   "cell_type": "code",
   "execution_count": 1,
   "id": "6ba069ea-8e67-421d-b132-91de4c98a1f1",
   "metadata": {},
   "outputs": [
    {
     "ename": "SyntaxError",
     "evalue": "invalid syntax (822421538.py, line 1)",
     "output_type": "error",
     "traceback": [
      "\u001b[1;36m  Cell \u001b[1;32mIn[1], line 1\u001b[1;36m\u001b[0m\n\u001b[1;33m    Multiplication=  lambda  a,b= a*b\u001b[0m\n\u001b[1;37m                                     ^\u001b[0m\n\u001b[1;31mSyntaxError\u001b[0m\u001b[1;31m:\u001b[0m invalid syntax\n"
     ]
    }
   ],
   "source": [
    "Multiplication=  lambda  a,b= a*b\n",
    "Resultat= Multiplication(10, 2)\n",
    "Resultat"
   ]
  },
  {
   "cell_type": "code",
   "execution_count": null,
   "id": "7635b407-ac17-47a2-a347-c2d9e7149141",
   "metadata": {},
   "outputs": [],
   "source": []
  }
 ],
 "metadata": {
  "kernelspec": {
   "display_name": "Python 3 (ipykernel)",
   "language": "python",
   "name": "python3"
  },
  "language_info": {
   "codemirror_mode": {
    "name": "ipython",
    "version": 3
   },
   "file_extension": ".py",
   "mimetype": "text/x-python",
   "name": "python",
   "nbconvert_exporter": "python",
   "pygments_lexer": "ipython3",
   "version": "3.12.4"
  }
 },
 "nbformat": 4,
 "nbformat_minor": 5
}
